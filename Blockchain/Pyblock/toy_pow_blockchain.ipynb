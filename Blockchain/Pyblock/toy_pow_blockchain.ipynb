{
 "cells": [
  {
   "cell_type": "code",
   "execution_count": 1,
   "id": "49b2031e",
   "metadata": {},
   "outputs": [],
   "source": [
    "import random\n",
    "import datetime\n",
    "import hashlib"
   ]
  },
  {
   "cell_type": "code",
   "execution_count": 27,
   "id": "5f0b5f02",
   "metadata": {},
   "outputs": [
    {
     "name": "stdout",
     "output_type": "stream",
     "text": [
      "cf868c42\n"
     ]
    },
    {
     "data": {
      "text/plain": [
       "str"
      ]
     },
     "execution_count": 27,
     "metadata": {},
     "output_type": "execute_result"
    }
   ],
   "source": [
    "a = random.getrandbits(8)\n",
    "b = hex(a << 2)\n",
    "pab = hashlib.sha256(str(b).encode()).hexdigest()\n",
    "print(pab[:8])\n",
    "type(pab)"
   ]
  },
  {
   "cell_type": "code",
   "execution_count": 29,
   "id": "b76a8c4b",
   "metadata": {},
   "outputs": [],
   "source": [
    "class User:\n",
    "    def __init__(self, name):\n",
    "        self.name = name\n",
    "        self.generate_keys()\n",
    "    \n",
    "    def generate_keys(self):\n",
    "        self.private_key = random.getrandbits(8)\n",
    "        self.public_key = hex(self.private_key << 2)\n",
    "        public_address = hashlib.sha256(str(self.public_key).encode()).hexdigest()[:8]\n",
    "        self.public_address = \"U\"+public_address\n",
    "        return True\n",
    "\n",
    "    def __str__(self):\n",
    "        return f\"Name : {self.name},  Public Address: {self.public_address}\"\n"
   ]
  },
  {
   "cell_type": "code",
   "execution_count": 30,
   "id": "63b58f92",
   "metadata": {},
   "outputs": [],
   "source": [
    "class Transaction:\n",
    "    def __init__(self, from_address, to_address, amount):\n",
    "        self.from_address = from_address\n",
    "        self.to_address = to_address\n",
    "        self.amount = amount\n",
    "        self.status = \"pending\"\n",
    "        self.timestamp = datetime.datetime.now()\n",
    "        self.trans_hash = self.generate_id()\n",
    "    \n",
    "    def generate_id(self):\n",
    "        transactionstr = str(self.from_address) + str(self.to_address) + str(self.amount) + str(self.timestamp)\n",
    "        trans_hash = hashlib.sha256(transactionstr.encode()).hexdigest()\n",
    "        return trans_hash\n",
    "    \n",
    "    def complete(self):\n",
    "        self.status = \"completed\"\n",
    "        return True\n",
    "\n",
    "    def fail(self):\n",
    "        self.status = \"failed\"\n",
    "        return False\n",
    "    \n",
    "    def __str__(self):\n",
    "        return f\"Transaction {self.trans_hash}, from {self.from_address} to {self.to_address}, Amount {self.amount}, Status - {self.status}\"\n"
   ]
  },
  {
   "cell_type": "code",
   "execution_count": null,
   "id": "9b53f41c",
   "metadata": {},
   "outputs": [],
   "source": [
    "class Block:\n",
    "    def __init__(self, transaction_list, prev_hash):\n",
    "        if (len(transaction_list) != 10):\n",
    "            print(\"Need to have 10 transactions!\")\n",
    "            return False\n",
    "        self.transactions = transaction_list\n",
    "        self.timestamp = datetime.datetime.now()\n",
    "        self.prev_hash = prev_hash\n",
    "        self.nonce = None\n",
    "        self.hash = None\n",
    "    \n",
    "    #def add_transaction(self, transaction):\n",
    "    #    if (len(self.transactions) == 10):\n",
    "    #        print(\"Already at maximum capacity! ready to create a block! cannot add this transaction!\")\n",
    "    #        return False\n",
    "    #    self.transactions.append(transaction)\n",
    "    #    print(f\"Currently have {len(self.transactions)} in the block!\")\n",
    "    #    return True\n",
    "    \n",
    "    def generate_hash(self):\n",
    "        hashstr = \"\"\n",
    "        for i in self.transactions:\n",
    "            hashstr += str(i)\n",
    "        hashstr += str(self.timestamp)\n",
    "        hash1 = hashlib.sha256(hashstr.encode()).hexdigest()\n",
    "        return hash1\n",
    "\n",
    "    def mine(self):\n",
    "        pow = \"111000\"\n",
    "        while (pow[:3] != \"000\"):\n",
    "            hash1 = self.generate_hash()\n",
    "            self.nonce = str(random.getrandbits(6))\n",
    "            combined = hash1 + self.nonce\n",
    "            pow = hashlib.sha256(combined.encode()).hexdigest()\n",
    "        self.hash = hash1\n",
    "        for i in self.transactions:\n",
    "            i.complete()\n",
    "        print(\"Mining done\")\n",
    "        return hash1\n",
    "    \n",
    "    def verify(self):\n",
    "        if len(self.transactions) != 10:\n",
    "            print(\"Doesnt have 10 transaction!\")\n",
    "            return False\n",
    "        elif self.hash == None:\n",
    "            print(\"Block hasnt been mined yet!\")\n",
    "            return False\n",
    "        block_hash = self.generate_hash()\n",
    "        combined = block_hash + self.nonce\n",
    "        pow = hashlib.sha256(combined.encode()).hexdigest()\n",
    "        if (pow[:3] == \"000\") and self.hash == block_hash:\n",
    "            print(\"Block is validated!\")\n",
    "            return True\n",
    "        return False\n",
    "    \n",
    "    def __str__(self):\n",
    "        if len(self.transactions) == 10:\n",
    "            return f\"Currently has {len(self.transactions)}, ready to mine!\"\n",
    "        return f\"Currently has {len(self.transactions)} in the Block!\" "
   ]
  },
  {
   "cell_type": "code",
   "execution_count": null,
   "id": "88cc87b8",
   "metadata": {},
   "outputs": [],
   "source": [
    "class BlockChain:\n",
    "    def __init__(self, blocks, transactions):\n",
    "        self.blocks = blocks\n",
    "        self.mempool = transactions\n",
    "\n",
    "    def add_transaction(self, transaction):\n",
    "        self.mempool.append(transaction)\n",
    "        return True\n",
    "    \n",
    "    def add_block(self, block):\n",
    "        if block.verify() and block.prev_hash == self.blocks[-1].hash:\n",
    "            self.blocks.append(block)\n",
    "            return True\n",
    "        else:\n",
    "            print(\"The block hasnt been mined or incomplete!\")\n",
    "            return False\n",
    "    \n",
    "    def create_block(self):\n",
    "        if self.blocks:\n",
    "            hash1 = self.blocks[-1].hash\n",
    "        else:\n",
    "            hash1 = None\n",
    "        if len(self.mempool) >= 10:\n",
    "            block1 = Block(self.mempool[:10], hash1)\n",
    "            del self.mempool[:10]\n",
    "            block1.mine()\n",
    "            self.blocks.append(block1)\n",
    "            print(f\"Block {block1.hash} created and added to the block chain!\")\n",
    "            return True\n",
    "        else:\n",
    "            print(f\"Block couldnt be created yet. Need {10 - len(self.mempool)} transactions to create one!\")\n",
    "            return False\n",
    "\n",
    "    def validate(self):\n",
    "        for i in range(0, len(self.blocks)-1):\n",
    "            if not(self.blocks[i].timestamp < self.blocks[i+1].timestamp and self.blocks[i].hash == self.blocks[i+1].prev_hash):\n",
    "                print(\"Block has been tampered!!!\")\n",
    "                return False\n",
    "        return True\n",
    "    \n",
    "    def __str__(self):\n",
    "        result = \"Blocks in the blockchain:\\n\"\n",
    "        for i in self.blocks:\n",
    "            result += f\"Block {i.hash}\\n\"\n",
    "        result += \"Current mempool: \\n\"\n",
    "        for j in self.mempool:\n",
    "            result += f\"Transaction {j.trans_hash}, status : {j.status}\\n\"\n",
    "        return result\n"
   ]
  },
  {
   "cell_type": "code",
   "execution_count": null,
   "id": "8eda9120",
   "metadata": {},
   "outputs": [],
   "source": [
    "str1 = \"QZIAD GHOBR GHMZS KOUCB\"\n",
    "list_ords = [ord(char1) for char1 in str1]"
   ]
  },
  {
   "cell_type": "code",
   "execution_count": 89,
   "id": "2ad33e7d",
   "metadata": {},
   "outputs": [
    {
     "name": "stdout",
     "output_type": "stream",
     "text": [
      "['C', 'L', 'U', 'M', 'P', 'F', 'S', 'T', 'A', 'N', 'D', 'F', 'S', 'T', 'Y', 'L', 'E', 'F', 'W', 'A', 'G', 'O', 'N']\n"
     ]
    }
   ],
   "source": [
    "list_ords2 = [65 + ( (i - 65 + 12) % 26 ) for i in list_ords]\n",
    "list_chr = [chr(i) for i in list_ords2]\n",
    "print(list_chr)"
   ]
  },
  {
   "cell_type": "code",
   "execution_count": 76,
   "id": "f9cb4060",
   "metadata": {},
   "outputs": [
    {
     "data": {
      "text/plain": [
       "[81,\n",
       " 90,\n",
       " 73,\n",
       " 65,\n",
       " 68,\n",
       " 32,\n",
       " 71,\n",
       " 72,\n",
       " 79,\n",
       " 66,\n",
       " 82,\n",
       " 32,\n",
       " 71,\n",
       " 72,\n",
       " 77,\n",
       " 90,\n",
       " 83,\n",
       " 32,\n",
       " 75,\n",
       " 79,\n",
       " 85,\n",
       " 67,\n",
       " 66]"
      ]
     },
     "execution_count": 76,
     "metadata": {},
     "output_type": "execute_result"
    }
   ],
   "source": [
    "list_ords"
   ]
  },
  {
   "cell_type": "code",
   "execution_count": null,
   "id": "70f693bf",
   "metadata": {},
   "outputs": [],
   "source": []
  }
 ],
 "metadata": {
  "kernelspec": {
   "display_name": "base",
   "language": "python",
   "name": "python3"
  },
  "language_info": {
   "codemirror_mode": {
    "name": "ipython",
    "version": 3
   },
   "file_extension": ".py",
   "mimetype": "text/x-python",
   "name": "python",
   "nbconvert_exporter": "python",
   "pygments_lexer": "ipython3",
   "version": "3.12.7"
  }
 },
 "nbformat": 4,
 "nbformat_minor": 5
}
