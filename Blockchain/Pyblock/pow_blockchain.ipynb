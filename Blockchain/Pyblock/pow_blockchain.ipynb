{
 "cells": [
  {
   "cell_type": "code",
   "execution_count": 6,
   "id": "a6bc5a2a",
   "metadata": {},
   "outputs": [],
   "source": [
    "import hashlib\n",
    "import random\n",
    "from ecdsa import SigningKey, SECP256k1\n",
    "import datetime\n",
    "import copy"
   ]
  },
  {
   "cell_type": "code",
   "execution_count": 4,
   "id": "aec736b2",
   "metadata": {},
   "outputs": [],
   "source": [
    "class User:\n",
    "    def __init__(self, name, balance):\n",
    "        self.name = name\n",
    "        self.generate_keys()\n",
    "        self.balance = balance\n",
    "    \n",
    "    def generate_keys(self):\n",
    "        self.private_key = SigningKey.generate(curve=SECP256k1)\n",
    "        self.public_key = self.private_key.get_verifying_key()\n",
    "        self.public_address = hashlib.sha256(self.public_key.to_string()).hexdigest()[:16]\n",
    "        return True\n",
    "    \n",
    "    def sign_transaction(self, message : bytes) -> bytes:\n",
    "        return self.private_key.sign(message)\n",
    "\n",
    "    def __str__(self):\n",
    "        return f\"Name : {self.name}, Public Address : {self.public_address}, Balance : {self.balance}\""
   ]
  },
  {
   "cell_type": "code",
   "execution_count": 5,
   "id": "fc33f16e",
   "metadata": {},
   "outputs": [],
   "source": [
    "class Transaction:\n",
    "    def __init__(self, from_account, to_account, amount):\n",
    "        self.from_user = from_account\n",
    "        self.to_user = to_account\n",
    "        self.amount = amount\n",
    "        self.timestamp = datetime.datetime.now()\n",
    "        self.status = \"pending\"\n",
    "        self.trans_hash = self.generate_id()\n",
    "        self.signature = self.generate_signature()\n",
    "    \n",
    "    def generate_id(self):\n",
    "        hashstr = f\"{self.from_user.public_address}{self.to_user.public_address}{self.amount}{self.timestamp}\"\n",
    "        trans_hash = hashlib.sha256(hashstr.encode()).hexdigest()\n",
    "        return trans_hash\n",
    "    \n",
    "    def generate_signature(self):\n",
    "        message = f\"{self.from_user.public_address}{self.to_user.public_address}{self.amount}{self.timestamp}\"\n",
    "        message_bytes = message.encode()\n",
    "        return self.from_user.sign_transaction(message_bytes)\n",
    "    \n",
    "    def complete(self):\n",
    "        self.status = \"complete\"\n",
    "        return True\n",
    "    \n",
    "    def fail(self):\n",
    "        self.status = \"failed\"\n",
    "        return False\n",
    "    \n",
    "    def verify_signature(self):\n",
    "        message = f\"{self.from_user.public_address}{self.to_user.public_address}{self.amount}{self.timestamp}\"\n",
    "        message_bytes = message.encode()\n",
    "        try:\n",
    "            return self.from_user.public_key.verify(self.signature, message_bytes)\n",
    "        except:\n",
    "            return False\n",
    "\n",
    "    def __str__(self):\n",
    "        return f\"Transaction: {self.trans_hash}, From: {self.from_user.public_address}, To: {self.to_user.public_address}, \\\n",
    "            Amount: {self.amount}, Time: {self.timestamp}\""
   ]
  },
  {
   "cell_type": "code",
   "execution_count": null,
   "id": "4b80b06b",
   "metadata": {},
   "outputs": [],
   "source": [
    "class Block:\n",
    "    def __init__(self, transaction_list, prev_hash):\n",
    "        if len(transaction_list) != 10:\n",
    "            raise ValueError(\"Need exactly 10 transactions to create a block.\") \n",
    "        self.transactions = transaction_list\n",
    "        self.timestamp = datetime.datetime.now()\n",
    "        self.nonce = None\n",
    "        self.hash = None\n",
    "        self.merkle_root = None\n",
    "        self.prev_hash = prev_hash\n",
    "    \n",
    "    def verify_transactions(self):\n",
    "        temp_balances = {}\n",
    "        for tx in self.transactions:\n",
    "            sender = tx.from_user\n",
    "            address = sender.public_address\n",
    "            balance = tx.from_user.balance\n",
    "            current_balance = temp_balances.get(address, sender.balance)\n",
    "            if not tx.verify_signature() or tx.amount > current_balance:\n",
    "                tx.fail()\n",
    "                return False\n",
    "            temp_balances[address] = current_balance - tx.amount\n",
    "        return True\n",
    "        \n",
    "    def generate_merkle_root(self):\n",
    "        tx_hashes = [tx.trans_hash for tx in self.transactions]\n",
    "        if len(tx_hashes) % 2 == 1:\n",
    "            tx_hashes.append(tx_hashes[-1])\n",
    "        while len(tx_hashes) > 1:\n",
    "            new_layer = []\n",
    "            for i in range(0, len(tx_hashes), 2):\n",
    "                combined = (tx_hashes[i] + tx_hashes[i+1]).encode()\n",
    "                new_hash = hashlib.sha256(combined).hexdigest()\n",
    "                new_layer.append(new_hash)\n",
    "            if len(new_layer) % 2 == 1 and len(new_layer) > 1:\n",
    "                new_layer.append(new_layer[-1])\n",
    "            tx_hashes = new_layer\n",
    "        return tx_hashes[0]\n",
    "    \n",
    "    def generate_hash(self):\n",
    "        merkle_root = self.merkle_root\n",
    "        hashstr = f\"{merkle_root}{self.timestamp}{self.prev_hash}{self.nonce}\"\n",
    "        return hashlib.sha256(hashstr.encode()).hexdigest()\n",
    "    \n",
    "    def mine(self, difficulty):\n",
    "        self.merkle_root = self.generate_merkle_root()  # compute once\n",
    "        if self.verify_transactions():\n",
    "            prefix = \"0\" * difficulty\n",
    "            while True:\n",
    "                self.nonce = random.getrandbits(32)\n",
    "                new_hash = self.generate_hash()\n",
    "                if new_hash.startswith(prefix):\n",
    "                    self.hash = new_hash\n",
    "                    for tx in self.transactions:\n",
    "                        tx.complete()\n",
    "                    print(\"Mining done!\")\n",
    "                    return new_hash\n",
    "        else:\n",
    "            raise ValueError(\"Some transactions couldnt be verified\")\n",
    "    \n",
    "    def verify(self, difficulty):\n",
    "        recalculated_merkle = self.generate_merkle_root()\n",
    "        recalculated_hash = hashlib.sha256(\n",
    "            f\"{recalculated_merkle}{self.timestamp}{self.prev_hash}{self.nonce}\".encode()\n",
    "        ).hexdigest()\n",
    "        prefix = \"0\" * difficulty\n",
    "        return recalculated_hash.startswith(prefix) and self.hash == recalculated_hash and self.verify_transactions()\n",
    "    \n",
    "    def __str__(self):\n",
    "        return f\"Block hash: {self.hash}, Previous hash: {self.prev_hash}, Block nonce: {self.nonce}\\\n",
    "                Block merkle root: {self.merkle_root}, Block Time stamp: {self.timestamp}\"\n",
    "            "
   ]
  },
  {
   "cell_type": "code",
   "execution_count": 40,
   "id": "62945809",
   "metadata": {},
   "outputs": [],
   "source": [
    "class BlockChain:\n",
    "    def __init__(self, blocks, transactions):\n",
    "        self.blocks = blocks\n",
    "        self.mempool = transactions\n",
    "        self.ledger = {}\n",
    "    \n",
    "    def add_transaction(self, transaction):\n",
    "        sender = transaction.from_user\n",
    "        sender_balance = self.ledger.get(sender, 0)\n",
    "        pending_total = sum(\n",
    "                tx.amount for tx in self.mempool\n",
    "                if tx.from_user.public_address == sender\n",
    "            )\n",
    "        if sender_balance >= transaction.amount + pending_total:\n",
    "            if transaction.verify_signature():\n",
    "                self.mempool.append(transaction)\n",
    "                return True\n",
    "            else:\n",
    "                print(\"Signature verification failed.\")\n",
    "                return False\n",
    "        else:\n",
    "            print(\"Double spending attempt blocked: insufficient balance in mempool.\")\n",
    "            return False\n",
    "    \n",
    "    def add_block(self, block):\n",
    "        if block.verify(3) and block.prev_hash == self.blocks[-1].hash:\n",
    "            self.blocks.append(block)\n",
    "            self.update_ledger(block)\n",
    "            return True\n",
    "        return False\n",
    "    \n",
    "    def update_ledger(self, block):\n",
    "        for tx in block.transactions:\n",
    "            sender = tx.from_user.public_address\n",
    "            recipient = tx.to_user.public_address\n",
    "            if sender not in self.ledger:\n",
    "                self.ledger[sender] = tx.from_user.balance\n",
    "            if recipient not in self.ledger:\n",
    "                self.ledger[recipient] = tx.to_user.balance\n",
    "            if self.ledger[sender] >= tx.amount:\n",
    "                self.ledger[sender] -= tx.amount\n",
    "                self.ledger[recipient] += tx.amount\n",
    "            else:\n",
    "                print(\"Ledger inconsistency detected — should not happen!\")\n",
    "                return False\n",
    "        return True\n",
    "\n",
    "    def create_block(self):\n",
    "        if self.blocks:\n",
    "            hash1 = self.blocks[-1].hash\n",
    "        else:\n",
    "            hash1 = None\n",
    "        if len(self.mempool) >= 10:\n",
    "            block1 = Block(self.mempool[:10], hash1)\n",
    "            del self.mempool[:10]\n",
    "            block1.mine(3)\n",
    "            self.add_block(block1)\n",
    "            print(f\"Block {block1.hash} created and added to the block chain!\")\n",
    "            return True\n",
    "        else:\n",
    "            print(f\"Block couldnt be created yet. Need {10 - len(self.mempool)} transactions to create one!\")\n",
    "            return False\n",
    "     \n",
    "    def validate(self):\n",
    "        for i in range(0, len(self.blocks)-1):\n",
    "            if not(self.blocks[i].timestamp < self.blocks[i+1].timestamp and self.blocks[i].hash == self.blocks[i+1].prev_hash and self.blocks[i].verify(3)):\n",
    "                print(\"Block has been tampered!!!\")\n",
    "                return False\n",
    "        return True\n",
    "    \n",
    "    def __str__(self):\n",
    "        result = \"Blocks in the blockchain:\\n\"\n",
    "        for i in self.blocks:\n",
    "            result += f\"Block {i.hash}\\n\"\n",
    "        result += \"Current mempool: \\n\"\n",
    "        for j in self.mempool:\n",
    "            result += f\"Transaction {j.trans_hash}, status : {j.status}\\n\"\n",
    "        result += \"Ledger: \\n\"\n",
    "        for user, balance in zip(self.ledger.keys(), self.ledger.values()):\n",
    "            result += f\"User {user}: Balance {balance}\\n\"\n",
    "        return result"
   ]
  },
  {
   "cell_type": "code",
   "execution_count": 57,
   "id": "aa1869e6",
   "metadata": {},
   "outputs": [],
   "source": [
    "alice = User(\"Alice\", 100)\n",
    "bob = User(\"Bob\", 50)\n",
    "charlie = User(\"Charlie\", 0)"
   ]
  },
  {
   "cell_type": "code",
   "execution_count": 58,
   "id": "d9c27eed",
   "metadata": {},
   "outputs": [
    {
     "name": "stdout",
     "output_type": "stream",
     "text": [
      "Name : Bob, Public Address : 6c6fd34557f6c5e5, Balance : 50\n"
     ]
    }
   ],
   "source": [
    "print(bob)"
   ]
  },
  {
   "cell_type": "code",
   "execution_count": 59,
   "id": "1be15f6b",
   "metadata": {},
   "outputs": [],
   "source": [
    "genesis_block = Block([Transaction(alice, bob, 1) for _ in range(10)], prev_hash=\"0\"*64)\n",
    "genesis_block.merkle_root = genesis_block.generate_merkle_root()\n",
    "genesis_block.hash = genesis_block.generate_hash()"
   ]
  },
  {
   "cell_type": "code",
   "execution_count": 60,
   "id": "e0992fbc",
   "metadata": {},
   "outputs": [
    {
     "data": {
      "text/plain": [
       "True"
      ]
     },
     "execution_count": 60,
     "metadata": {},
     "output_type": "execute_result"
    }
   ],
   "source": [
    "blockchain = BlockChain(blocks=[genesis_block], transactions=[])\n",
    "blockchain.update_ledger(genesis_block)  # initialize ledger"
   ]
  },
  {
   "cell_type": "code",
   "execution_count": 61,
   "id": "875fdebf",
   "metadata": {},
   "outputs": [
    {
     "data": {
      "text/plain": [
       "{'3e68267f70d704a1': 90, '6c6fd34557f6c5e5': 60}"
      ]
     },
     "execution_count": 61,
     "metadata": {},
     "output_type": "execute_result"
    }
   ],
   "source": [
    "blockchain.ledger"
   ]
  },
  {
   "cell_type": "code",
   "execution_count": 62,
   "id": "f9546fa2",
   "metadata": {},
   "outputs": [
    {
     "name": "stdout",
     "output_type": "stream",
     "text": [
      "Blocks in the blockchain:\n",
      "Block 0750e6660ae433dcbd443abfd7a8b7a2107af136b67293c4440bd7b95a02cc26\n",
      "Current mempool: \n",
      "Ledger: \n",
      "User 3e68267f70d704a1: Balance 90\n",
      "User 6c6fd34557f6c5e5: Balance 60\n",
      "\n"
     ]
    }
   ],
   "source": [
    "print(blockchain)"
   ]
  },
  {
   "cell_type": "code",
   "execution_count": 63,
   "id": "13261ad3",
   "metadata": {},
   "outputs": [
    {
     "name": "stdout",
     "output_type": "stream",
     "text": [
      "Double spending attempt blocked: insufficient balance in mempool.\n",
      "Double spending attempt blocked: insufficient balance in mempool.\n",
      "Double spending attempt blocked: insufficient balance in mempool.\n",
      "Double spending attempt blocked: insufficient balance in mempool.\n",
      "Double spending attempt blocked: insufficient balance in mempool.\n",
      "Double spending attempt blocked: insufficient balance in mempool.\n",
      "Double spending attempt blocked: insufficient balance in mempool.\n",
      "Double spending attempt blocked: insufficient balance in mempool.\n",
      "Double spending attempt blocked: insufficient balance in mempool.\n"
     ]
    }
   ],
   "source": [
    "tx1 = Transaction(alice, bob, 20)\n",
    "blockchain.add_transaction(tx1)\n",
    "\n",
    "tx2 = Transaction(alice, bob, 0)  # Should fail due to insufficient funds\n",
    "blockchain.add_transaction(tx2)\n",
    "\n",
    "tx3 = Transaction(bob, charlie, 30)\n",
    "blockchain.add_transaction(tx3)\n",
    "\n",
    "# Add 7 more dummy transactions to reach 10\n",
    "for _ in range(7):\n",
    "    tx = Transaction(bob, charlie, 1)\n",
    "    blockchain.add_transaction(tx)"
   ]
  },
  {
   "cell_type": "code",
   "execution_count": 64,
   "id": "0530bd0b",
   "metadata": {},
   "outputs": [
    {
     "name": "stdout",
     "output_type": "stream",
     "text": [
      "Block couldnt be created yet. Need 9 transactions to create one!\n"
     ]
    },
    {
     "data": {
      "text/plain": [
       "False"
      ]
     },
     "execution_count": 64,
     "metadata": {},
     "output_type": "execute_result"
    }
   ],
   "source": [
    "blockchain.create_block()"
   ]
  },
  {
   "cell_type": "code",
   "execution_count": null,
   "id": "882c102a",
   "metadata": {},
   "outputs": [],
   "source": []
  }
 ],
 "metadata": {
  "kernelspec": {
   "display_name": "base",
   "language": "python",
   "name": "python3"
  },
  "language_info": {
   "codemirror_mode": {
    "name": "ipython",
    "version": 3
   },
   "file_extension": ".py",
   "mimetype": "text/x-python",
   "name": "python",
   "nbconvert_exporter": "python",
   "pygments_lexer": "ipython3",
   "version": "3.12.7"
  }
 },
 "nbformat": 4,
 "nbformat_minor": 5
}
