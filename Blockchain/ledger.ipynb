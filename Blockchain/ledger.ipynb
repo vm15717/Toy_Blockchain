{
 "cells": [
  {
   "cell_type": "code",
   "execution_count": 42,
   "id": "89bf2b65",
   "metadata": {},
   "outputs": [],
   "source": [
    "class Account:\n",
    "    def __init__(self, name, account_number, amount):\n",
    "        self.name = name\n",
    "        self.account_number = account_number\n",
    "        self.balance = amount\n",
    "\n",
    "    def withdraw(self, amount):\n",
    "        if amount <= 0:\n",
    "            print(\"Amount to withdraw must be a positive real number!!!\")\n",
    "            return False\n",
    "        else:\n",
    "            if self.balance - amount < 0:\n",
    "                print(f\"Not enough balance in the account, the current balance is {self.balance}\")\n",
    "                return False\n",
    "            self.Balance -= amount\n",
    "            print(f\"Withdrew {amount}, the current balance is {self.balance}\")\n",
    "            return True\n",
    "\n",
    "    def deposit(self, amount):\n",
    "        if amount <= 0:\n",
    "            print(\"Amount to deposit must be a positive real number!!!\")\n",
    "            return False\n",
    "        self.balance += amount\n",
    "        print(f\"{amount} deposited into the account, current balance is {self.balance}\")\n",
    "        return True\n",
    "        \n",
    "    def __str__(self):\n",
    "        return f\"Account[{self.account_number}] {self.name} - Balance: {self.balance}\""
   ]
  },
  {
   "cell_type": "code",
   "execution_count": 43,
   "id": "b7968ac4",
   "metadata": {},
   "outputs": [],
   "source": [
    "import datetime\n",
    "class Transaction:\n",
    "    def __init__(self, from_account, to_account, amount):\n",
    "        self.from_account = from_account\n",
    "        self.to_account = to_account\n",
    "        self.amount = amount\n",
    "        self.status = \"pending\"\n",
    "        self.timestamp = datetime.datetime.now()\n",
    "\n",
    "    def complete(self):\n",
    "        self.status = \"completed\"\n",
    "\n",
    "    def fail(self):\n",
    "        self.status = \"failed\"\n",
    "\n",
    "    def __str__(self):\n",
    "        return (f\"Transaction from {self.from_account} to {self.to_account} \"\n",
    "                f\"amount {self.amount} at {self.timestamp} status {self.status}\")\n"
   ]
  },
  {
   "cell_type": "code",
   "execution_count": 44,
   "id": "01c8d774",
   "metadata": {},
   "outputs": [
    {
     "name": "stdout",
     "output_type": "stream",
     "text": [
      "Account[1] John - Balance: 50\n"
     ]
    }
   ],
   "source": [
    "acc1 = Account(\"John\", 1, 50)\n",
    "print(acc1)"
   ]
  },
  {
   "cell_type": "code",
   "execution_count": 45,
   "id": "7dbff6a0",
   "metadata": {},
   "outputs": [],
   "source": [
    "class Bank:\n",
    "    def __init__(self, accounts, transactions):\n",
    "        self.accounts = {}\n",
    "        for i in accounts:\n",
    "            self.accounts[i.account_number] = i\n",
    "        self.transactions = transactions\n",
    "\n",
    "    def add_account(self, account):\n",
    "        self.accounts.append(account)\n",
    "\n",
    "    def perform_transaction(self, transaction):\n",
    "        if transaction.from_account.balance - transaction.amount >= 0:\n",
    "            transaction.from_account.balance = transaction.from_account.balance - transaction.amount\n",
    "            transaction.to_account.balance = transaction.to_account.balance + transaction.amount\n",
    "            transaction.complete()\n",
    "            self.transactions.append(transaction)\n",
    "            print(f\"Transferred {transaction.amount} from {transaction.from_account} to {transaction.to_account}!\")\n",
    "            return True\n",
    "        else:\n",
    "            transaction.fail()\n",
    "            print(f\"Transaction cannot be completed due to low balance in {transaction.from_account}\")\n",
    "            return False\n",
    "    def __str__(self):\n",
    "        result = \"Account list: \\n\"\n",
    "        for i in self.accounts.values():\n",
    "            result += str(i) + \"\\n\"\n",
    "        result += \"Transaction List: \\n\"\n",
    "        for j in self.transactions:\n",
    "            result += str(j) + \"\\n\"\n",
    "        return result"
   ]
  },
  {
   "cell_type": "code",
   "execution_count": 46,
   "id": "3084287d",
   "metadata": {},
   "outputs": [],
   "source": [
    "acc1 = Account(\"Alice\", 1, 30)\n",
    "acc2 = Account(\"Bob\", 2, 20)"
   ]
  },
  {
   "cell_type": "code",
   "execution_count": 47,
   "id": "8bb139af",
   "metadata": {},
   "outputs": [],
   "source": [
    "transa1 = Transaction(acc1, acc2, 10)"
   ]
  },
  {
   "cell_type": "code",
   "execution_count": 48,
   "id": "a5339203",
   "metadata": {},
   "outputs": [
    {
     "name": "stdout",
     "output_type": "stream",
     "text": [
      "Account[1] Alice - Balance: 30\n"
     ]
    }
   ],
   "source": [
    "print(acc1)"
   ]
  },
  {
   "cell_type": "code",
   "execution_count": 49,
   "id": "ff940e92",
   "metadata": {},
   "outputs": [
    {
     "name": "stdout",
     "output_type": "stream",
     "text": [
      "Account[2] Bob - Balance: 20\n"
     ]
    }
   ],
   "source": [
    "print(acc2)"
   ]
  },
  {
   "cell_type": "code",
   "execution_count": 50,
   "id": "9b5e9d8d",
   "metadata": {},
   "outputs": [
    {
     "name": "stdout",
     "output_type": "stream",
     "text": [
      "Transaction from Account[1] Alice - Balance: 30 to Account[2] Bob - Balance: 20 amount 10 at 2025-07-05 18:01:49.722008 status pending\n"
     ]
    }
   ],
   "source": [
    "print(transa1)"
   ]
  },
  {
   "cell_type": "code",
   "execution_count": 58,
   "id": "6c596818",
   "metadata": {},
   "outputs": [],
   "source": [
    "b1 = Bank([acc1, acc2], [])"
   ]
  },
  {
   "cell_type": "code",
   "execution_count": 59,
   "id": "4fc3774e",
   "metadata": {},
   "outputs": [
    {
     "name": "stdout",
     "output_type": "stream",
     "text": [
      "Transferred 10 from Account[1] Alice - Balance: 10 to Account[2] Bob - Balance: 40!\n"
     ]
    },
    {
     "data": {
      "text/plain": [
       "True"
      ]
     },
     "execution_count": 59,
     "metadata": {},
     "output_type": "execute_result"
    }
   ],
   "source": [
    "b1.perform_transaction(transa1)"
   ]
  },
  {
   "cell_type": "code",
   "execution_count": 60,
   "id": "513a79d6",
   "metadata": {},
   "outputs": [
    {
     "name": "stdout",
     "output_type": "stream",
     "text": [
      "Transaction from Account[1] Alice - Balance: 10 to Account[2] Bob - Balance: 40 amount 10 at 2025-07-05 18:01:49.722008 status completed\n"
     ]
    }
   ],
   "source": [
    "print(transa1)"
   ]
  },
  {
   "cell_type": "code",
   "execution_count": 61,
   "id": "1b29da38",
   "metadata": {},
   "outputs": [
    {
     "data": {
      "text/plain": [
       "10"
      ]
     },
     "execution_count": 61,
     "metadata": {},
     "output_type": "execute_result"
    }
   ],
   "source": [
    "acc1.balance"
   ]
  },
  {
   "cell_type": "code",
   "execution_count": 62,
   "id": "7ca169f6",
   "metadata": {},
   "outputs": [
    {
     "data": {
      "text/plain": [
       "40"
      ]
     },
     "execution_count": 62,
     "metadata": {},
     "output_type": "execute_result"
    }
   ],
   "source": [
    "acc2.balance"
   ]
  },
  {
   "cell_type": "code",
   "execution_count": 63,
   "id": "e488b909",
   "metadata": {},
   "outputs": [
    {
     "name": "stdout",
     "output_type": "stream",
     "text": [
      "Account list: \n",
      "Account[1] Alice - Balance: 10\n",
      "Account[2] Bob - Balance: 40\n",
      "Transaction List: \n",
      "Transaction from Account[1] Alice - Balance: 10 to Account[2] Bob - Balance: 40 amount 10 at 2025-07-05 18:01:49.722008 status completed\n",
      "\n"
     ]
    }
   ],
   "source": [
    "print(b1)"
   ]
  },
  {
   "cell_type": "code",
   "execution_count": 64,
   "id": "2d991286",
   "metadata": {},
   "outputs": [],
   "source": [
    "transa1 = Transaction(acc1, acc2, 10)"
   ]
  },
  {
   "cell_type": "code",
   "execution_count": 65,
   "id": "3a9124ee",
   "metadata": {},
   "outputs": [
    {
     "name": "stdout",
     "output_type": "stream",
     "text": [
      "Transferred 10 from Account[1] Alice - Balance: 0 to Account[2] Bob - Balance: 50!\n"
     ]
    },
    {
     "data": {
      "text/plain": [
       "True"
      ]
     },
     "execution_count": 65,
     "metadata": {},
     "output_type": "execute_result"
    }
   ],
   "source": [
    "b1.perform_transaction(transa1)"
   ]
  },
  {
   "cell_type": "code",
   "execution_count": 66,
   "id": "d739dc32",
   "metadata": {},
   "outputs": [
    {
     "name": "stdout",
     "output_type": "stream",
     "text": [
      "Account list: \n",
      "Account[1] Alice - Balance: 0\n",
      "Account[2] Bob - Balance: 50\n",
      "Transaction List: \n",
      "Transaction from Account[1] Alice - Balance: 0 to Account[2] Bob - Balance: 50 amount 10 at 2025-07-05 18:01:49.722008 status completed\n",
      "Transaction from Account[1] Alice - Balance: 0 to Account[2] Bob - Balance: 50 amount 10 at 2025-07-05 18:03:24.563566 status completed\n",
      "\n"
     ]
    }
   ],
   "source": [
    "print(b1)"
   ]
  },
  {
   "cell_type": "code",
   "execution_count": null,
   "id": "5302494d",
   "metadata": {},
   "outputs": [],
   "source": []
  }
 ],
 "metadata": {
  "kernelspec": {
   "display_name": "base",
   "language": "python",
   "name": "python3"
  },
  "language_info": {
   "codemirror_mode": {
    "name": "ipython",
    "version": 3
   },
   "file_extension": ".py",
   "mimetype": "text/x-python",
   "name": "python",
   "nbconvert_exporter": "python",
   "pygments_lexer": "ipython3",
   "version": "3.12.7"
  }
 },
 "nbformat": 4,
 "nbformat_minor": 5
}
