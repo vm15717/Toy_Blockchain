{
 "cells": [
  {
   "cell_type": "code",
   "execution_count": 4,
   "id": "68e921d2",
   "metadata": {},
   "outputs": [],
   "source": [
    "import torch\n",
    "from torch import nn"
   ]
  },
  {
   "cell_type": "code",
   "execution_count": 18,
   "id": "8af178e1",
   "metadata": {},
   "outputs": [],
   "source": [
    "X1 = torch.tensor([[10.0]], dtype=torch.float32)\n",
    "y1 = torch.tensor([[50.0]], dtype=torch.float32)\n",
    "\n",
    "X2 = torch.tensor([[37.78]], dtype=torch.float32)\n",
    "y2 = torch.tensor(100.0)\n",
    "\n",
    "model = nn.Linear(1,1)"
   ]
  },
  {
   "cell_type": "code",
   "execution_count": 19,
   "id": "f9f40773",
   "metadata": {},
   "outputs": [
    {
     "name": "stdout",
     "output_type": "stream",
     "text": [
      "tensor([[-0.1224]], grad_fn=<AddmmBackward0>)\n",
      "tensor([[-0.3131]], grad_fn=<AddmmBackward0>)\n"
     ]
    }
   ],
   "source": [
    "y1_pred = model(X1)\n",
    "y2_pred = model(X2)\n",
    "print(y1_pred)\n",
    "print(y2_pred)"
   ]
  },
  {
   "cell_type": "code",
   "execution_count": 22,
   "id": "0b936d39",
   "metadata": {},
   "outputs": [
    {
     "name": "stdout",
     "output_type": "stream",
     "text": [
      "tensor(2512.2529, grad_fn=<MseLossBackward0>)\n",
      "[Parameter containing:\n",
      "tensor([[-0.0069]], requires_grad=True), Parameter containing:\n",
      "tensor([-0.0537], requires_grad=True)]\n"
     ]
    }
   ],
   "source": [
    "loss_fn = torch.nn.MSELoss()\n",
    "print(loss_fn(y1_pred, y1))\n",
    "\n",
    "print([i for i in model.parameters()])"
   ]
  },
  {
   "cell_type": "code",
   "execution_count": 23,
   "id": "f283fcdd",
   "metadata": {},
   "outputs": [],
   "source": [
    "optimizer = torch.optim.SGD(model.parameters(), lr = 0.001)"
   ]
  },
  {
   "cell_type": "code",
   "execution_count": 24,
   "id": "b6a91a06",
   "metadata": {},
   "outputs": [
    {
     "name": "stdout",
     "output_type": "stream",
     "text": [
      "tensor(2512.2529, grad_fn=<MseLossBackward0>)\n"
     ]
    }
   ],
   "source": [
    "optimizer.zero_grad()\n",
    "outputs = model(X1)\n",
    "loss = loss_fn(outputs, y1)\n",
    "print(loss)"
   ]
  },
  {
   "cell_type": "code",
   "execution_count": 25,
   "id": "2c7c2a33",
   "metadata": {},
   "outputs": [
    {
     "name": "stdout",
     "output_type": "stream",
     "text": [
      "tensor([[-0.1224]], grad_fn=<AddmmBackward0>)\n"
     ]
    }
   ],
   "source": [
    "y1_pred = model(X1)\n",
    "print(y1_pred)"
   ]
  },
  {
   "cell_type": "code",
   "execution_count": null,
   "id": "a117b5b0",
   "metadata": {},
   "outputs": [],
   "source": []
  }
 ],
 "metadata": {
  "kernelspec": {
   "display_name": "base",
   "language": "python",
   "name": "python3"
  },
  "language_info": {
   "codemirror_mode": {
    "name": "ipython",
    "version": 3
   },
   "file_extension": ".py",
   "mimetype": "text/x-python",
   "name": "python",
   "nbconvert_exporter": "python",
   "pygments_lexer": "ipython3",
   "version": "3.12.7"
  }
 },
 "nbformat": 4,
 "nbformat_minor": 5
}
