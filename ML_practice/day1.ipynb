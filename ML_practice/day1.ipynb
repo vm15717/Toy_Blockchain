{
 "cells": [
  {
   "cell_type": "code",
   "execution_count": 1,
   "id": "e30d89eb",
   "metadata": {},
   "outputs": [],
   "source": [
    "b = 32\n",
    "w1 = 1.8"
   ]
  },
  {
   "cell_type": "code",
   "execution_count": 2,
   "id": "80793aba",
   "metadata": {},
   "outputs": [
    {
     "name": "stdout",
     "output_type": "stream",
     "text": [
      "50.0\n"
     ]
    }
   ],
   "source": [
    "x1 = 10\n",
    "\n",
    "y1 = w1*x1 + b\n",
    "print(y1)"
   ]
  },
  {
   "cell_type": "code",
   "execution_count": 3,
   "id": "c8a989fa",
   "metadata": {},
   "outputs": [],
   "source": [
    "from torch import tensor"
   ]
  },
  {
   "cell_type": "code",
   "execution_count": 5,
   "id": "f3fe43a9",
   "metadata": {},
   "outputs": [
    {
     "name": "stdout",
     "output_type": "stream",
     "text": [
      "tensor([ 50.0000, 100.4000, 122.0000, 212.0000])\n"
     ]
    }
   ],
   "source": [
    "b = tensor(32)\n",
    "w1 = tensor(1.8)\n",
    "\n",
    "x1 = tensor([10, 38, 50, 100])\n",
    "\n",
    "y_pred = 1 * b + w1 * x1\n",
    "print(y_pred)"
   ]
  },
  {
   "cell_type": "code",
   "execution_count": 7,
   "id": "39999158",
   "metadata": {},
   "outputs": [
    {
     "name": "stdout",
     "output_type": "stream",
     "text": [
      "torch.Size([])\n",
      "torch.Size([4])\n"
     ]
    }
   ],
   "source": [
    "print(b.shape)\n",
    "print(x1.shape)"
   ]
  },
  {
   "cell_type": "code",
   "execution_count": 8,
   "id": "5bee0b21",
   "metadata": {},
   "outputs": [
    {
     "name": "stdout",
     "output_type": "stream",
     "text": [
      "torch.Size([])\n",
      "torch.Size([4])\n"
     ]
    }
   ],
   "source": [
    "print(b.size())\n",
    "print(x1.size())"
   ]
  },
  {
   "cell_type": "code",
   "execution_count": 10,
   "id": "28a0f8e7",
   "metadata": {},
   "outputs": [
    {
     "name": "stdout",
     "output_type": "stream",
     "text": [
      "tensor(50.)\n",
      "50.0\n"
     ]
    }
   ],
   "source": [
    "print(y_pred[0])\n",
    "print(y_pred[0].item())"
   ]
  },
  {
   "cell_type": "code",
   "execution_count": 14,
   "id": "e0153bc3",
   "metadata": {},
   "outputs": [
    {
     "name": "stdout",
     "output_type": "stream",
     "text": [
      "tensor([[ 50.0000],\n",
      "        [102.2000],\n",
      "        [123.8000],\n",
      "        [213.8000]])\n"
     ]
    }
   ],
   "source": [
    "x2 = tensor([[10.0], [39.0], [51.0], [101.0]])\n",
    "print(x2*w1+b*1)"
   ]
  },
  {
   "cell_type": "code",
   "execution_count": 19,
   "id": "2e1a5124",
   "metadata": {},
   "outputs": [
    {
     "name": "stdout",
     "output_type": "stream",
     "text": [
      "Linear(in_features=1, out_features=1, bias=True)\n"
     ]
    }
   ],
   "source": [
    "from torch import nn\n",
    "\n",
    "model = nn.Linear(1,1)\n",
    "print(model)"
   ]
  },
  {
   "cell_type": "code",
   "execution_count": 22,
   "id": "f21483b5",
   "metadata": {},
   "outputs": [
    {
     "name": "stdout",
     "output_type": "stream",
     "text": [
      "Parameter containing:\n",
      "tensor([[-0.2155]], requires_grad=True)\n",
      "Parameter containing:\n",
      "tensor([-0.6778], requires_grad=True)\n"
     ]
    }
   ],
   "source": [
    "print(model.weight)\n",
    "print(model.bias)"
   ]
  },
  {
   "cell_type": "code",
   "execution_count": 23,
   "id": "ef9b24cf",
   "metadata": {},
   "outputs": [
    {
     "name": "stdout",
     "output_type": "stream",
     "text": [
      "tensor([[ -2.8326],\n",
      "        [ -9.0817],\n",
      "        [-11.6675],\n",
      "        [-22.4417]], grad_fn=<AddmmBackward0>)\n"
     ]
    }
   ],
   "source": [
    "y_pred = model(x2)\n",
    "print(y_pred)"
   ]
  },
  {
   "cell_type": "code",
   "execution_count": 26,
   "id": "d8951a99",
   "metadata": {},
   "outputs": [
    {
     "data": {
      "text/plain": [
       "-2.832643985748291"
      ]
     },
     "execution_count": 26,
     "metadata": {},
     "output_type": "execute_result"
    }
   ],
   "source": [
    "model.bias.item() + 10 * model.weight[0].item()"
   ]
  },
  {
   "cell_type": "code",
   "execution_count": 27,
   "id": "04cc801a",
   "metadata": {},
   "outputs": [],
   "source": [
    "model.bias = nn.Parameter(tensor([32.0]))"
   ]
  },
  {
   "cell_type": "code",
   "execution_count": 28,
   "id": "12f7c03d",
   "metadata": {},
   "outputs": [
    {
     "name": "stdout",
     "output_type": "stream",
     "text": [
      "tensor([[29.8452],\n",
      "        [23.5961],\n",
      "        [21.0103],\n",
      "        [10.2361]], grad_fn=<AddmmBackward0>)\n"
     ]
    }
   ],
   "source": [
    "y_pred = model(x2)\n",
    "print(y_pred)"
   ]
  },
  {
   "cell_type": "code",
   "execution_count": 29,
   "id": "44fdc197",
   "metadata": {},
   "outputs": [],
   "source": [
    "model.weight = nn.Parameter(tensor([[1.8]]))"
   ]
  },
  {
   "cell_type": "code",
   "execution_count": 30,
   "id": "4bc08299",
   "metadata": {},
   "outputs": [
    {
     "name": "stdout",
     "output_type": "stream",
     "text": [
      "tensor([[ 50.0000],\n",
      "        [102.2000],\n",
      "        [123.8000],\n",
      "        [213.8000]], grad_fn=<AddmmBackward0>)\n"
     ]
    }
   ],
   "source": [
    "y_pred = model(x2)\n",
    "print(y_pred)"
   ]
  },
  {
   "cell_type": "code",
   "execution_count": 35,
   "id": "e3a5f276",
   "metadata": {},
   "outputs": [
    {
     "name": "stdout",
     "output_type": "stream",
     "text": [
      "<class 'float'>\n",
      "<class 'torch.Tensor'>\n",
      "<class 'torch.Tensor'>\n",
      "<class 'int'>\n"
     ]
    }
   ],
   "source": [
    "print(type(5.5))\n",
    "print(type(x2))\n",
    "print(type(y_pred))\n",
    "print(type(5))"
   ]
  },
  {
   "cell_type": "code",
   "execution_count": 36,
   "id": "b0914ef5",
   "metadata": {},
   "outputs": [
    {
     "name": "stdout",
     "output_type": "stream",
     "text": [
      "<class 'float'>\n"
     ]
    }
   ],
   "source": [
    "print(type(4 + 5.5))"
   ]
  },
  {
   "cell_type": "code",
   "execution_count": 39,
   "id": "c59cb545",
   "metadata": {},
   "outputs": [
    {
     "name": "stdout",
     "output_type": "stream",
     "text": [
      "torch.float32\n",
      "torch.int64\n"
     ]
    }
   ],
   "source": [
    "print(y_pred.dtype)\n",
    "print(tensor(5).dtype)"
   ]
  },
  {
   "cell_type": "code",
   "execution_count": 43,
   "id": "bdaf97ec",
   "metadata": {},
   "outputs": [
    {
     "name": "stdout",
     "output_type": "stream",
     "text": [
      "tensor([[ 50],\n",
      "        [102],\n",
      "        [123],\n",
      "        [213]])\n"
     ]
    }
   ],
   "source": [
    "from torch import int64, float32\n",
    "y_pred = y_pred.type(int64)\n",
    "print(y_pred)"
   ]
  },
  {
   "cell_type": "code",
   "execution_count": 45,
   "id": "0057f5d6",
   "metadata": {},
   "outputs": [
    {
     "name": "stdout",
     "output_type": "stream",
     "text": [
      "tensor(34.)\n"
     ]
    }
   ],
   "source": [
    "y = tensor(34, dtype = float32)\n",
    "print(y)"
   ]
  },
  {
   "cell_type": "code",
   "execution_count": 46,
   "id": "159c6563",
   "metadata": {},
   "outputs": [
    {
     "name": "stdout",
     "output_type": "stream",
     "text": [
      "tensor([[1.],\n",
      "        [2.],\n",
      "        [3.],\n",
      "        [4.]])\n",
      "tensor([[0.6996],\n",
      "        [0.7131],\n",
      "        [0.7267],\n",
      "        [0.7402]], grad_fn=<AddmmBackward0>)\n",
      "Parameter containing:\n",
      "tensor([0.6860], requires_grad=True)\n",
      "Parameter containing:\n",
      "tensor([[0.0135]], requires_grad=True)\n"
     ]
    }
   ],
   "source": [
    "from torch import nn\n",
    "x = tensor([[1], [2], [3], [4]], dtype = float32)\n",
    "model = nn.Linear(1,1)\n",
    "y_pred2 = model(x)\n",
    "print(x)\n",
    "print(y_pred2)\n",
    "print(model.bias)\n",
    "print(model.weight)"
   ]
  },
  {
   "cell_type": "code",
   "execution_count": null,
   "id": "26ab4581",
   "metadata": {},
   "outputs": [],
   "source": []
  }
 ],
 "metadata": {
  "kernelspec": {
   "display_name": "myenv",
   "language": "python",
   "name": "python3"
  },
  "language_info": {
   "codemirror_mode": {
    "name": "ipython",
    "version": 3
   },
   "file_extension": ".py",
   "mimetype": "text/x-python",
   "name": "python",
   "nbconvert_exporter": "python",
   "pygments_lexer": "ipython3",
   "version": "3.13.7"
  }
 },
 "nbformat": 4,
 "nbformat_minor": 5
}
